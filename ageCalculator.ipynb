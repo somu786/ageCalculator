{
 "cells": [
  {
   "cell_type": "markdown",
   "id": "07faa1a4",
   "metadata": {},
   "source": [
    "## Age Calculator"
   ]
  },
  {
   "cell_type": "code",
   "execution_count": 1,
   "id": "3d3acab0",
   "metadata": {},
   "outputs": [],
   "source": [
    "import datetime\n",
    "currentDate = datetime.datetime.now()"
   ]
  },
  {
   "cell_type": "code",
   "execution_count": 2,
   "id": "0bd2153f",
   "metadata": {},
   "outputs": [
    {
     "name": "stdout",
     "output_type": "stream",
     "text": [
      "Plz enter your date of birth (mm/dd/yyyy) 12/03/2001\n"
     ]
    }
   ],
   "source": [
    "deadline= input ('Plz enter your date of birth (mm/dd/yyyy) ')\n",
    "deadlineDate= datetime.datetime.strptime(deadline,'%m/%d/%Y')\n",
    "daysLeft = currentDate - deadlineDate"
   ]
  },
  {
   "cell_type": "code",
   "execution_count": 3,
   "id": "20d5d475",
   "metadata": {},
   "outputs": [],
   "source": [
    "years = ((daysLeft.total_seconds())/(365.242*24*3600))\n",
    "yearsInt=int(years)"
   ]
  },
  {
   "cell_type": "code",
   "execution_count": 4,
   "id": "6cae07ea",
   "metadata": {},
   "outputs": [],
   "source": [
    "months=(years-yearsInt)*12\n",
    "monthsInt=int(months)"
   ]
  },
  {
   "cell_type": "code",
   "execution_count": 5,
   "id": "ec76807b",
   "metadata": {},
   "outputs": [],
   "source": [
    "days=(months-monthsInt)*(365.242/12)\n",
    "daysInt=int(days)"
   ]
  },
  {
   "cell_type": "code",
   "execution_count": 6,
   "id": "643d3a05",
   "metadata": {},
   "outputs": [],
   "source": [
    "hours = (days-daysInt)*24\n",
    "hoursInt=int(hours)"
   ]
  },
  {
   "cell_type": "code",
   "execution_count": 7,
   "id": "d35db495",
   "metadata": {},
   "outputs": [],
   "source": [
    "minutes = (hours-hoursInt)*60\n",
    "minutesInt=int(minutes)"
   ]
  },
  {
   "cell_type": "code",
   "execution_count": 8,
   "id": "36e6147d",
   "metadata": {},
   "outputs": [],
   "source": [
    "seconds = (minutes-minutesInt)*60\n",
    "secondsInt =int(seconds)"
   ]
  },
  {
   "cell_type": "code",
   "execution_count": 9,
   "id": "a862355f",
   "metadata": {},
   "outputs": [
    {
     "name": "stdout",
     "output_type": "stream",
     "text": [
      "You are 20 years, 3  months, 24  days, 17  hours, 58 minutes, 14 seconds old.\n"
     ]
    }
   ],
   "source": [
    "print('You are {0:d} years, {1:d}  months, {2:d}  days, {3:d}  hours, {4:d} minutes, {5:d} seconds old.'.format(yearsInt,monthsInt,daysInt,hoursInt,minutesInt,secondsInt))"
   ]
  },
  {
   "cell_type": "code",
   "execution_count": null,
   "id": "45ebcd41",
   "metadata": {},
   "outputs": [],
   "source": []
  }
 ],
 "metadata": {
  "kernelspec": {
   "display_name": "Python 3 (ipykernel)",
   "language": "python",
   "name": "python3"
  },
  "language_info": {
   "codemirror_mode": {
    "name": "ipython",
    "version": 3
   },
   "file_extension": ".py",
   "mimetype": "text/x-python",
   "name": "python",
   "nbconvert_exporter": "python",
   "pygments_lexer": "ipython3",
   "version": "3.9.7"
  }
 },
 "nbformat": 4,
 "nbformat_minor": 5
}
